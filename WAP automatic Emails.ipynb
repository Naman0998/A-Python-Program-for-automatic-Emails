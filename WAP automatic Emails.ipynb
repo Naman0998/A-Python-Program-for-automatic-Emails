{
 "cells": [
  {
   "cell_type": "code",
   "execution_count": null,
   "id": "41f673cd",
   "metadata": {},
   "outputs": [],
   "source": [
    "import os\n",
    "import random\n",
    "import smtplib\n",
    "\n",
    "def automatic_email():\n",
    "    user = input(\"Enter your name >> :\")\n",
    "    email = input(\"Enter your email address >> :\")\n",
    "    message = (f\"Dear{user}, Welcome to our website\")\n",
    "    s = smtplib.SMTP('smtp.gmail.com',662)\n",
    "    s.starttls()\n",
    "    s.login(\"Your Gmail account\",\"Your app password\")\n",
    "    s.sendmail('&&&&&&&&&&&', email, message)\n",
    "    print(\"Email Sent\")\n",
    "    \n",
    "automatic_email()\n",
    "                "
   ]
  },
  {
   "cell_type": "code",
   "execution_count": null,
   "id": "a93ea7fe",
   "metadata": {},
   "outputs": [],
   "source": []
  },
  {
   "cell_type": "code",
   "execution_count": null,
   "id": "d43c07e0",
   "metadata": {},
   "outputs": [],
   "source": [
    "\n"
   ]
  },
  {
   "cell_type": "code",
   "execution_count": null,
   "id": "ab409e7d",
   "metadata": {},
   "outputs": [],
   "source": []
  },
  {
   "cell_type": "code",
   "execution_count": null,
   "id": "a931f56e",
   "metadata": {},
   "outputs": [],
   "source": []
  },
  {
   "cell_type": "code",
   "execution_count": null,
   "id": "df05802a",
   "metadata": {},
   "outputs": [],
   "source": []
  }
 ],
 "metadata": {
  "kernelspec": {
   "display_name": "Python 3 (ipykernel)",
   "language": "python",
   "name": "python3"
  },
  "language_info": {
   "codemirror_mode": {
    "name": "ipython",
    "version": 3
   },
   "file_extension": ".py",
   "mimetype": "text/x-python",
   "name": "python",
   "nbconvert_exporter": "python",
   "pygments_lexer": "ipython3",
   "version": "3.9.12"
  }
 },
 "nbformat": 4,
 "nbformat_minor": 5
}
